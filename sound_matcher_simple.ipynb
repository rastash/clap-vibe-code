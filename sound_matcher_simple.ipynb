{
 "cells": [
  {
   "cell_type": "markdown",
   "metadata": {},
   "source": [
    "# CLAP Sound Matcher - Simple Interactive Demo\n",
    "\n",
    "This notebook provides a simple interface to match text queries to sounds using the CLAP Sound Matcher."
   ]
  },
  {
   "cell_type": "code",
   "execution_count": null,
   "metadata": {},
   "source": [
    "# Import necessary libraries\n",
    "import os\n",
    "import ipywidgets as widgets\n",
    "from IPython.display import display, clear_output, Audio\n",
    "import matplotlib.pyplot as plt\n",
    "\n",
    "# Import the SoundMatcher class from sound_matcher.py\n",
    "from sound_matcher import SoundMatcher"
   ]
  },
  {
   "cell_type": "markdown",
   "metadata": {},
   "source": [
    "## Initialize the Sound Matcher\n",
    "\n",
    "First, we'll initialize the SoundMatcher with the ESC-50 dataset."
   ]
  },
  {
   "cell_type": "code",
   "execution_count": null,
   "metadata": {},
   "source": [
    "# Path to the audio directory\n",
    "audio_dir = 'data/ESC-50-master/audio'\n",
    "\n",
    "# Initialize the SoundMatcher\n",
    "print(\"Initializing SoundMatcher...\")\n",
    "matcher = SoundMatcher(audio_dir, use_cuda=False)\n",
    "print(\"SoundMatcher initialized!\")"
   ]
  },
  {
   "cell_type": "markdown",
   "metadata": {},
   "source": [
    "## Create Interactive Interface\n",
    "\n",
    "Now let's create an interactive interface to search for sounds and play them."
   ]
  },
  {
   "cell_type": "code",
   "execution_count": null,
   "metadata": {},
   "source": [
    "def display_results(matches, query):\n",
    "    \"\"\"Display search results with audio players\"\"\"\n",
    "    print(f\"Top matches for query: '{query}'\")\n",
    "    print(\"-\" * 50)\n",
    "    \n",
    "    for i, (file_path, score) in enumerate(matches):\n",
    "        file_name = os.path.basename(file_path)\n",
    "        print(f\"{i+1}. {file_name} (score: {score:.4f})\")\n",
    "        \n",
    "        # Display audio player\n",
    "        display(Audio(file_path))\n",
    "        \n",
    "        # Visualize the audio if it's the top match\n",
    "        if i == 0:\n",
    "            print(f\"\\nVisualizing top match: {file_name}\")\n",
    "            plt.figure(figsize=(10, 6))\n",
    "            matcher.visualize_audio(file_path)\n",
    "            plt.tight_layout()\n",
    "            plt.show()"
   ]
  },
  {
   "cell_type": "code",
   "execution_count": null,
   "metadata": {},
   "source": [
    "def on_search_button_clicked(b):\n",
    "    \"\"\"Handle search button click\"\"\"\n",
    "    with output:\n",
    "        clear_output()\n",
    "        query = query_input.value.strip()\n",
    "        if not query:\n",
    "            print(\"Please enter a query.\")\n",
    "            return\n",
    "        \n",
    "        print(f\"Searching for: '{query}'...\")\n",
    "        matches = matcher.find_matching_sounds(query, top_k=top_k_slider.value)\n",
    "        display_results(matches, query)"
   ]
  },
  {
   "cell_type": "code",
   "execution_count": null,
   "metadata": {},
   "source": [
    "# Create widgets\n",
    "query_input = widgets.Text(\n",
    "    value='',\n",
    "    placeholder='Enter a text query (e.g., \"dog barking\", \"rain falling\")',\n",
    "    description='Query:',\n",
    "    layout=widgets.Layout(width='80%')\n",
    ")\n",
    "\n",
    "top_k_slider = widgets.IntSlider(\n",
    "    value=3,\n",
    "    min=1,\n",
    "    max=10,\n",
    "    step=1,\n",
    "    description='Top K:',\n",
    "    layout=widgets.Layout(width='50%')\n",
    ")\n",
    "\n",
    "search_button = widgets.Button(\n",
    "    description='Search',\n",
    "    button_style='primary',\n",
    "    tooltip='Click to search for sounds matching the query'\n",
    ")\n",
    "\n",
    "output = widgets.Output()\n",
    "\n",
    "# Connect the button to the click handler\n",
    "search_button.on_click(on_search_button_clicked)\n",
    "\n",
    "# Handle Enter key in the query input\n",
    "def on_enter(sender):\n",
    "    on_search_button_clicked(None)\n",
    "    \n",
    "query_input.on_submit(on_enter)\n",
    "\n",
    "# Display the widgets\n",
    "display(widgets.HTML(\"<h3>Enter a text query to find matching sounds:</h3>\"))\n",
    "display(query_input)\n",
    "display(widgets.HBox([top_k_slider, search_button]))\n",
    "display(output)"
   ]
  },
  {
   "cell_type": "markdown",
   "metadata": {},
   "source": [
    "## Example Queries\n",
    "\n",
    "Here are some example queries you can try:\n",
    "- \"dog barking\"\n",
    "- \"rain falling\"\n",
    "- \"baby crying\"\n",
    "- \"clock ticking\"\n",
    "- \"car engine\"\n",
    "- \"birds chirping\"\n",
    "- \"footsteps\"\n",
    "- \"door knocking\"\n",
    "- \"glass breaking\"\n",
    "- \"wind blowing\""
   ]
  },
  {
   "cell_type": "markdown",
   "metadata": {},
   "source": [
    "## Try Some Preset Queries\n",
    "\n",
    "You can also try some preset queries by running the cells below."
   ]
  },
  {
   "cell_type": "code",
   "execution_count": null,
   "metadata": {},
   "source": [
    "# Example 1: Dog barking\n",
    "query = \"dog barking\"\n",
    "print(f\"Searching for: '{query}'...\")\n",
    "matches = matcher.find_matching_sounds(query, top_k=3)\n",
    "display_results(matches, query)"
   ]
  },
  {
   "cell_type": "code",
   "execution_count": null,
   "metadata": {},
   "source": [
    "# Example 2: Rain falling\n",
    "query = \"rain falling\"\n",
    "print(f\"Searching for: '{query}'...\")\n",
    "matches = matcher.find_matching_sounds(query, top_k=3)\n",
    "display_results(matches, query)"
   ]
  },
  {
   "cell_type": "code",
   "execution_count": null,
   "metadata": {},
   "source": [
    "# Example 3: Birds chirping\n",
    "query = \"birds chirping\"\n",
    "print(f\"Searching for: '{query}'...\")\n",
    "matches = matcher.find_matching_sounds(query, top_k=3)\n",
    "display_results(matches, query)"
   ]
  }
 ],
 "metadata": {
  "kernelspec": {
   "display_name": "Python 3",
   "language": "python",
   "name": "python3"
  },
  "language_info": {
   "codemirror_mode": {
    "name": "ipython",
    "version": 3
   },
   "file_extension": ".py",
   "mimetype": "text/x-python",
   "name": "python",
   "nbconvert_exporter": "python",
   "pygments_lexer": "ipython3",
   "version": "3.11.0"
  }
 },
 "nbformat": 4,
 "nbformat_minor": 4
}
